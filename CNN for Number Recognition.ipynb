{
 "cells": [
  {
   "cell_type": "code",
   "execution_count": 5,
   "id": "f927191c",
   "metadata": {},
   "outputs": [],
   "source": [
    "import pickle\n",
    "import numpy as np\n",
    "import pandas as pd\n",
    "import matplotlib.pyplot as plt\n",
    "import sklearn\n"
   ]
  },
  {
   "cell_type": "code",
   "execution_count": 6,
   "id": "c5042dde",
   "metadata": {},
   "outputs": [],
   "source": [
    "data_file=\"MNIST_data.pkl\"\n",
    "# load the data set\n",
    "with open(data_file,'rb') as infile:\n",
    "    train_dataset = pickle.load(infile)\n",
    "X = train_dataset['X']\n",
    "y = train_dataset['y']"
   ]
  },
  {
   "cell_type": "code",
   "execution_count": 7,
   "id": "3ce72f93",
   "metadata": {},
   "outputs": [],
   "source": [
    "#normalise\n",
    "std=np.std(X,axis=0,keepdims=True)\n",
    "Mean = np.mean(X, axis=0, keepdims=True)\n",
    "Norm_X = (X - Mean) / (std+1e-7)"
   ]
  },
  {
   "cell_type": "code",
   "execution_count": 8,
   "id": "76aabcda",
   "metadata": {},
   "outputs": [],
   "source": [
    "#split data\n",
    "from sklearn.model_selection import train_test_split\n",
    "X_train, X_test, y_train, y_test = train_test_split(X, y, test_size=0.5, random_state=42, stratify=y)"
   ]
  },
  {
   "cell_type": "code",
   "execution_count": 9,
   "id": "4fd38c56",
   "metadata": {},
   "outputs": [
    {
     "name": "stderr",
     "output_type": "stream",
     "text": [
      "/Users/mahitgadhiwala/opt/anaconda3/lib/python3.9/site-packages/matplotlib/text.py:1223: FutureWarning: elementwise comparison failed; returning scalar instead, but in the future will perform elementwise comparison\n",
      "  if s != self._text:\n"
     ]
    },
    {
     "data": {
      "image/png": "[encoded data removed]",
      "text/plain": [
       "<Figure size 1000x1000 with 16 Axes>"
      ]
     },
     "metadata": {},
     "output_type": "display_data"
    }
   ],
   "source": [
    "# display a 4x4 grid\n",
    "import matplotlib.pyplot as plt\n",
    "import random\n",
    "indices = random.sample(range(X_train.shape[0]), 16)\n",
    "sample_images = X_train[indices]\n",
    "sample_labels = y_train[indices]\n",
    "sample_images = sample_images.reshape(-1, 28, 28)\n",
    "fig, axes = plt.subplots(4, 4, figsize=(10, 10))\n",
    "axes = axes.ravel()\n",
    "for i in range(16):\n",
    "    axes[i].imshow(sample_images[i], cmap='gray')\n",
    "    axes[i].set_title(sample_labels[i])\n",
    "    axes[i].axis('off')\n",
    "plt.subplots_adjust(hspace=0.4)\n",
    "plt.show()"
   ]
  },
  {
   "cell_type": "code",
   "execution_count": 10,
   "id": "f08418b6",
   "metadata": {},
   "outputs": [],
   "source": [
    "def relu(z):\n",
    "    \"\"\"\n",
    "    Arguments:\n",
    "    z -- A scalar or numpy array.\n",
    "\n",
    "    Returns:\n",
    "    relu_z -- ReLU of z, where the function is applied element-wise\n",
    "    \"\"\"\n",
    "    relu_z = np.maximum(0, z)\n",
    "    return relu_z\n"
   ]
  },
  {
   "cell_type": "code",
   "execution_count": 11,
   "id": "5f267367",
   "metadata": {},
   "outputs": [],
   "source": [
    "def softmax(z):\n",
    "    \"\"\"\n",
    "    returns computed probabilitites for each element in batch separately\n",
    "    input: (N, 10)\n",
    "    output: (N, 10)\n",
    "    \"\"\"\n",
    "    z_max = np.max(z, axis=1, keepdims=True)\n",
    "    z_stable = z - z_max\n",
    "    exp_z = np.exp(z_stable)\n",
    "    return exp_z / np.sum(exp_z, axis=1, keepdims=True)\n"
   ]
  },
  {
   "cell_type": "code",
   "execution_count": 12,
   "id": "f1ea21a2",
   "metadata": {},
   "outputs": [],
   "source": [
    "def init_params(input_size, hidden_size, output_size):\n",
    "    np.random.seed(2) # for reproducibility\n",
    "    W1 = np.random.randn(input_size, hidden_size)*0.01 / np.sqrt(input_size)\n",
    "    b1 = np.zeros((hidden_size,1))\n",
    "    W2 = np.random.randn(hidden_size, output_size)*0.01 / np.sqrt(hidden_size)\n",
    "    b2 = np.zeros((output_size,1))\n",
    "    parameters = {\"W1\": W1, \"b1\": b1, \"W2\": W2, \"b2\": b2}\n",
    "    return parameters\n"
   ]
  },
  {
   "cell_type": "code",
   "execution_count": 13,
   "id": "8f27821c",
   "metadata": {},
   "outputs": [],
   "source": [
    "def forward_prop(X, weights):\n",
    "    \"\"\"\n",
    "    X: input data\n",
    "    weights: weights of the layers\n",
    "    returns: logits, output of each layer z1,a1,z2,a2\n",
    "    \"\"\"\n",
    "    W1, b1, W2, b2 = weights[\"W1\"], weights[\"b1\"], weights[\"W2\"], weights[\"b2\"]\n",
    "    z1 = np.dot(X, W1) + np.transpose(b1)\n",
    "    a1 = relu(z1)\n",
    "    z2 = np.dot(a1, W2) + np.transpose(b2)\n",
    "    logits = z2\n",
    "    a2 = softmax(z2)\n",
    "    return logits, (z1, a1, z2, a2)\n"
   ]
  },
  {
   "cell_type": "code",
   "execution_count": 14,
   "id": "fd4f9819",
   "metadata": {},
   "outputs": [],
   "source": [
    "def backward_propg(weights, X, y, outputs, lr):\n",
    "    z1,z2=outputs\n",
    "    (W1,b1,W2,b2)=weights\n",
    "    \n",
    "    N=X.shape[0]\n",
    "    grad_output2=softmax(output2)/N\n",
    "    for i in range(N):\n",
    "        grad_output2[i][y[i]]-=1/N\n",
    "    grad_b2=np.sum(grad_output2,axis=0,keepdims=True).T\n",
    "    grad_W2=output1.T@grad_output2\n",
    "    grad_output1=grad_output2@w1.T\n",
    "    grad_relu=grad_output1*(output1>0)\n",
    "    grad_b1=np.sum(grad_relu,axis=0,keepdims=True).T\n",
    "    grad_W1=X.T@grad_relu\n",
    "    \n",
    "    # include the loss function -log(softmax)\n",
    "    loss = 0\n",
    "    for i in range(N):\n",
    "        loss -= np.log(softmax(output2[i])[y[i]])\n",
    "    loss = loss/N\n",
    "    \n",
    "    # update weights\n",
    "    W1-=lr*grad_w0\n",
    "    b1-=lr*grad_b0\n",
    "    W2-=lr*grad_w1\n",
    "    b2-=lr*grad_b1\n",
    "    \n",
    "    return(W1,b1,W2,b2),loss\n"
   ]
  },
  {
   "cell_type": "code",
   "execution_count": 15,
   "id": "5325b348",
   "metadata": {},
   "outputs": [],
   "source": [
    "def cost_func(weights, y, X):\n",
    "    logits,_=forward_prop(X, weights)\n",
    "    prob = softmax(logits)\n",
    "    N = X.shape[0]\n",
    "    cost = -np.mean(np.log(prob[range(N), y]))\n",
    "    return cost\n"
   ]
  },
  {
   "cell_type": "code",
   "execution_count": 16,
   "id": "3ca18b8c",
   "metadata": {},
   "outputs": [],
   "source": [
    "def train(X, y, hidden_nodes, epochs=1000, lr=1e-5):\n",
    "    \"\"\"\n",
    "    hidden_nodes: no. of nodes in hidden layer\n",
    "\n",
    "    should return the updated optimize weights.\n",
    "    \"\"\"\n",
    "    # initialize weights.\n",
    "    weights = init_params(input_size=X.shape[1], hidden_size=hidden_nodes, output_size=10)\n",
    "    \n",
    "    for i in range(epochs):\n",
    "        # forward propagation\n",
    "        outputs = forward_prop(X, weights)\n",
    "        \n",
    "        # print cost at every 100 or so iterations\n",
    "        if i % 100 == 0:\n",
    "            cost = cost_func(weights, y, X)\n",
    "            print(\"Cost at iteration\", i, \":\", cost)\n",
    "        \n",
    "        # backward propagation\n",
    "        gradients = backward_propg(weights, X, y, outputs)\n",
    "        \n",
    "       \n",
    "    return weights\n"
   ]
  },
  {
   "cell_type": "code",
   "execution_count": 17,
   "id": "b4448fc3",
   "metadata": {},
   "outputs": [],
   "source": [
    "def predict(X, updated_weights):\n",
    "    \"\"\"\n",
    "    returns the prediction in [0,9] for each element in X\n",
    "    \"\"\"\n",
    "    # unpack weights\n",
    "    W1, b1, W2, b2 = updated_weights\n",
    "    \n",
    "    # forward propogation\n",
    "    a1 = np.dot(X, W1) + b1\n",
    "    z1 = relu(a1)\n",
    "    a2 = np.dot(z1, W2) + b2\n",
    "    z2 = softmax(a2)\n",
    "    \n",
    "    # return predictions\n",
    "    predictions = np.argmax(z2, axis=1)\n",
    "    return predictions\n"
   ]
  },
  {
   "cell_type": "code",
   "execution_count": 18,
   "id": "a29b68df",
   "metadata": {},
   "outputs": [],
   "source": [
    "def accuracy(predictions, y):\n",
    "    correct = 0\n",
    "    for i in range(len(predictions)):\n",
    "        if predictions[i] == y[i]:\n",
    "            correct += 1\n",
    "    return correct / len(predictions) * 100\n"
   ]
  },
  {
   "cell_type": "code",
   "execution_count": null,
   "id": "fab57158",
   "metadata": {},
   "outputs": [],
   "source": [
    "accuracy(predict(X,train(X,y,256)),y)"
   ]
  },
  {
   "cell_type": "code",
   "execution_count": null,
   "id": "05e19244",
   "metadata": {},
   "outputs": [],
   "source": [
    "import pickle\n",
    "import random\n",
    "\n",
    "roll_num = \"22B1069\" # enter ldap\n",
    "hidden_dim = 256 # replace with your own hidden dimension\n",
    "\n",
    "# initialize weights\n",
    "layer_0_wt = np.random.randn(784, hidden_dim)\n",
    "layer_0_bias = np.random.randn(hidden_dim, 1)\n",
    "layer_1_wt = np.random.randn(hidden_dim, 10)\n",
    "layer_1_bias = np.random.randn(10, 1)\n",
    "\n",
    "\n",
    "model_dict = {\n",
    "    'z': hidden_dim, # hidden dimension of your model\n",
    "    'layer_0_wt': (784,256), # layer 0 weight (784, z)\n",
    "    'layer_0_bias': (256,1), # layer 0 bias (z, 1)\n",
    "    'layer_1_wt': (256,10), # layer 1 weight (z, 10)\n",
    "    'layer_1_bias': (10,1) # layer 1 bias (10, 1)\n",
    "}\n",
    "\n",
    "with open(f'model_{roll_num}.pkl', 'wb') as f:\n",
    "    pickle.dump(model_dict, f)"
   ]
  },
  {
   "cell_type": "code",
   "execution_count": null,
   "id": "c56cb19e",
   "metadata": {},
   "outputs": [],
   "source": []
  },
  {
   "cell_type": "code",
   "execution_count": null,
   "id": "139691b5",
   "metadata": {},
   "outputs": [],
   "source": []
  },
  {
   "cell_type": "code",
   "execution_count": null,
   "id": "e92d8949",
   "metadata": {},
   "outputs": [],
   "source": []
  }
 ],
 "metadata": {
  "kernelspec": {
   "display_name": "Python 3 (ipykernel)",
   "language": "python",
   "name": "python3"
  },
  "language_info": {
   "codemirror_mode": {
    "name": "ipython",
    "version": 3
   },
   "file_extension": ".py",
   "mimetype": "text/x-python",
   "name": "python",
   "nbconvert_exporter": "python",
   "pygments_lexer": "ipython3",
   "version": "3.9.13"
  }
 },
 "nbformat": 4,
 "nbformat_minor": 5
}
